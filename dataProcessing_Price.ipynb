{
 "cells": [
  {
   "cell_type": "code",
   "execution_count": 12,
   "metadata": {},
   "outputs": [],
   "source": [
    "# import libraries\n",
    "import os\n",
    "import pandas as pd\n",
    "import os\n",
    "import re\n",
    "import numpy as np\n",
    "import matplotlib.pyplot as plt\n",
    "import seaborn as sns\n",
    "from sklearn.preprocessing import MinMaxScaler, StandardScaler\n",
    "import scipy.stats\n",
    "import statsmodels.api as sm\n",
    "from statsmodels.tools.tools import add_constant\n",
    "# from src import drop_column_using_vif_, show_vif_values\n",
    "\n",
    "from statsmodels.stats.outliers_influence import variance_inflation_factor \n",
    "import imageio"
   ]
  },
  {
   "cell_type": "code",
   "execution_count": 68,
   "metadata": {},
   "outputs": [],
   "source": [
    "# Open yvr_listing_data.csv in the data folder\n",
    "PriceIndex = pd.read_csv(os.path.join('data', 'HousePriceIndex.csv'))\n",
    "SaleVolume = pd.read_csv(os.path.join('data', 'HouseSaleVolume.csv'))"
   ]
  },
  {
   "cell_type": "code",
   "execution_count": 69,
   "metadata": {},
   "outputs": [],
   "source": [
    "# transpose DataFrame\n",
    "PriceIndex_transposed = PriceIndex.transpose()\n",
    "SaleVolume_transposed = SaleVolume.transpose()"
   ]
  },
  {
   "cell_type": "code",
   "execution_count": 70,
   "metadata": {},
   "outputs": [],
   "source": [
    "# Set the first row as the column names\n",
    "PriceIndex_transposed.columns = PriceIndex_transposed.iloc[0]\n",
    "PriceIndex_transposed = PriceIndex_transposed.drop(PriceIndex_transposed.index[0])\n",
    "\n",
    "# Set the first row as the column names\n",
    "SaleVolume_transposed.columns = SaleVolume_transposed.iloc[0]\n",
    "SaleVolume_transposed = SaleVolume_transposed.drop(SaleVolume_transposed.index[0])"
   ]
  },
  {
   "cell_type": "code",
   "execution_count": 71,
   "metadata": {},
   "outputs": [],
   "source": [
    "PriceIndexMean = PriceIndex_transposed.iloc[:, :1]\n",
    "SaleVolumeMean = SaleVolume_transposed.iloc[:, :1]\n",
    "test = PriceIndex_transposed.iloc[:, 1:13]"
   ]
  },
  {
   "cell_type": "code",
   "execution_count": 72,
   "metadata": {},
   "outputs": [],
   "source": [
    "%%capture --no-stdout\n",
    "for year in range(2011, 2024):\n",
    "    PriceIndexMean[str(year)] = pd.NA"
   ]
  },
  {
   "cell_type": "code",
   "execution_count": 73,
   "metadata": {},
   "outputs": [
    {
     "name": "stdout",
     "output_type": "stream",
     "text": [
      "<class 'pandas.core.frame.DataFrame'>\n",
      "Index: 33 entries, City of London to Westminster\n",
      "Data columns (total 14 columns):\n",
      " #   Column   Non-Null Count  Dtype \n",
      "---  ------   --------------  ----- \n",
      " 0   CSScode  33 non-null     object\n",
      " 1   2011     0 non-null      object\n",
      " 2   2012     0 non-null      object\n",
      " 3   2013     0 non-null      object\n",
      " 4   2014     0 non-null      object\n",
      " 5   2015     0 non-null      object\n",
      " 6   2016     0 non-null      object\n",
      " 7   2017     0 non-null      object\n",
      " 8   2018     0 non-null      object\n",
      " 9   2019     0 non-null      object\n",
      " 10  2020     0 non-null      object\n",
      " 11  2021     0 non-null      object\n",
      " 12  2022     0 non-null      object\n",
      " 13  2023     0 non-null      object\n",
      "dtypes: object(14)\n",
      "memory usage: 3.9+ KB\n"
     ]
    }
   ],
   "source": [
    "PriceIndexMean.info()"
   ]
  },
  {
   "cell_type": "code",
   "execution_count": 74,
   "metadata": {},
   "outputs": [],
   "source": [
    "PriceIndex_transposed.iloc[:, 1:] = PriceIndex_transposed.iloc[:, 1:].astype(float)"
   ]
  },
  {
   "cell_type": "code",
   "execution_count": 75,
   "metadata": {},
   "outputs": [],
   "source": [
    "%%capture --no-stdout\n",
    "for i in range(12):\n",
    "    temp_column_name = str(2011+i)\n",
    "    PriceIndexMean[temp_column_name] = PriceIndex_transposed.iloc[:, 1+12*i:13+12*i].mean(axis=1)"
   ]
  },
  {
   "cell_type": "code",
   "execution_count": 76,
   "metadata": {},
   "outputs": [],
   "source": [
    "%%capture --no-stdout\n",
    "PriceIndexMean['2023'] = PriceIndex_transposed.iloc[:, 145:155].mean(axis=1)"
   ]
  },
  {
   "cell_type": "code",
   "execution_count": 78,
   "metadata": {},
   "outputs": [
    {
     "name": "stdout",
     "output_type": "stream",
     "text": [
      "<class 'pandas.core.frame.DataFrame'>\n",
      "Index: 33 entries, City of London to Westminster\n",
      "Data columns (total 14 columns):\n",
      " #   Column   Non-Null Count  Dtype \n",
      "---  ------   --------------  ----- \n",
      " 0   CSScode  33 non-null     object\n",
      " 1   2011     33 non-null     object\n",
      " 2   2012     33 non-null     object\n",
      " 3   2013     33 non-null     object\n",
      " 4   2014     33 non-null     object\n",
      " 5   2015     33 non-null     object\n",
      " 6   2016     33 non-null     object\n",
      " 7   2017     33 non-null     object\n",
      " 8   2018     33 non-null     object\n",
      " 9   2019     33 non-null     object\n",
      " 10  2020     33 non-null     object\n",
      " 11  2021     33 non-null     object\n",
      " 12  2022     33 non-null     object\n",
      " 13  2023     33 non-null     object\n",
      "dtypes: object(14)\n",
      "memory usage: 3.9+ KB\n"
     ]
    }
   ],
   "source": [
    "PriceIndexMean.head()\n",
    "PriceIndexMean.info()"
   ]
  },
  {
   "cell_type": "code",
   "execution_count": 80,
   "metadata": {},
   "outputs": [],
   "source": [
    "PriceIndexMean.to_csv(os.path.join(\"data\",\"CleanedPriceIndex.csv\"), index=False)"
   ]
  }
 ],
 "metadata": {
  "kernelspec": {
   "display_name": "base",
   "language": "python",
   "name": "python3"
  },
  "language_info": {
   "codemirror_mode": {
    "name": "ipython",
    "version": 3
   },
   "file_extension": ".py",
   "mimetype": "text/x-python",
   "name": "python",
   "nbconvert_exporter": "python",
   "pygments_lexer": "ipython3",
   "version": "3.11.5"
  }
 },
 "nbformat": 4,
 "nbformat_minor": 2
}
