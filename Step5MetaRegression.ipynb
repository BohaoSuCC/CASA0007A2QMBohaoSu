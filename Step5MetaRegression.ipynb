{
 "cells": [
  {
   "cell_type": "code",
   "execution_count": 2,
   "metadata": {},
   "outputs": [],
   "source": [
    "import pandas as pd\n",
    "import statsmodels.api as sm\n",
    "import matplotlib.pyplot as plt\n",
    "import statsmodels.formula.api as smf\n",
    "import os"
   ]
  },
  {
   "cell_type": "code",
   "execution_count": 3,
   "metadata": {},
   "outputs": [],
   "source": [
    "model_stats = pd.read_csv(os.path.join(\"AnalysisResult\",\"ModelResults\",\"MetaRegression_data.csv\"))"
   ]
  },
  {
   "cell_type": "code",
   "execution_count": 4,
   "metadata": {},
   "outputs": [
    {
     "name": "stdout",
     "output_type": "stream",
     "text": [
      "                            OLS Regression Results                            \n",
      "==============================================================================\n",
      "Dep. Variable:            Coefficient   R-squared:                       0.002\n",
      "Model:                            OLS   Adj. R-squared:                 -0.010\n",
      "Method:                 Least Squares   F-statistic:                    0.1904\n",
      "Date:                Mon, 15 Jan 2024   Prob (F-statistic):              0.664\n",
      "Time:                        23:54:20   Log-Likelihood:                -17.061\n",
      "No. Observations:                  80   AIC:                             38.12\n",
      "Df Residuals:                      78   BIC:                             42.89\n",
      "Df Model:                           1                                         \n",
      "Covariance Type:            nonrobust                                         \n",
      "==============================================================================\n",
      "                 coef    std err          t      P>|t|      [0.025      0.975]\n",
      "------------------------------------------------------------------------------\n",
      "Intercept     21.1369     48.436      0.436      0.664     -75.292     117.566\n",
      "Year          -0.0105      0.024     -0.436      0.664      -0.058       0.037\n",
      "==============================================================================\n",
      "Omnibus:                        0.344   Durbin-Watson:                   2.203\n",
      "Prob(Omnibus):                  0.842   Jarque-Bera (JB):                0.515\n",
      "Skew:                           0.097   Prob(JB):                        0.773\n",
      "Kurtosis:                       2.658   Cond. No.                     2.89e+06\n",
      "==============================================================================\n",
      "\n",
      "Notes:\n",
      "[1] Standard Errors assume that the covariance matrix of the errors is correctly specified.\n",
      "[2] The condition number is large, 2.89e+06. This might indicate that there are\n",
      "strong multicollinearity or other numerical problems.\n"
     ]
    }
   ],
   "source": [
    "\n",
    "meta_model = smf.ols('Coefficient ~ Year', data=model_stats).fit()\n",
    "print(meta_model.summary())"
   ]
  }
 ],
 "metadata": {
  "kernelspec": {
   "display_name": "base",
   "language": "python",
   "name": "python3"
  },
  "language_info": {
   "codemirror_mode": {
    "name": "ipython",
    "version": 3
   },
   "file_extension": ".py",
   "mimetype": "text/x-python",
   "name": "python",
   "nbconvert_exporter": "python",
   "pygments_lexer": "ipython3",
   "version": "3.11.5"
  }
 },
 "nbformat": 4,
 "nbformat_minor": 2
}
