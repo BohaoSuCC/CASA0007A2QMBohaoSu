{
 "cells": [
  {
   "cell_type": "code",
   "execution_count": 1,
   "metadata": {},
   "outputs": [],
   "source": [
    "# import libraries\n",
    "import os\n",
    "import pandas as pd\n",
    "import os\n",
    "import re\n",
    "import numpy as np\n",
    "import matplotlib.pyplot as plt\n",
    "import seaborn as sns\n",
    "from sklearn.preprocessing import MinMaxScaler, StandardScaler\n",
    "import scipy.stats\n",
    "import statsmodels.api as sm\n",
    "from statsmodels.tools.tools import add_constant\n",
    "# from src import drop_column_using_vif_, show_vif_values\n",
    "\n",
    "from statsmodels.stats.outliers_influence import variance_inflation_factor \n",
    "import imageio"
   ]
  },
  {
   "cell_type": "code",
   "execution_count": 2,
   "metadata": {},
   "outputs": [],
   "source": [
    "# Open yvr_listing_data.csv in the data folder\n",
    "PriceIndex = pd.read_csv(os.path.join('..','data', 'HousePriceIndex.csv'))\n",
    "SaleVolume = pd.read_csv(os.path.join('..','data', 'HouseSaleVolume.csv'))"
   ]
  },
  {
   "cell_type": "code",
   "execution_count": 3,
   "metadata": {},
   "outputs": [],
   "source": [
    "# transpose DataFrame\n",
    "PriceIndex_transposed = PriceIndex.transpose()\n",
    "SaleVolume_transposed = SaleVolume.transpose()"
   ]
  },
  {
   "cell_type": "code",
   "execution_count": 4,
   "metadata": {},
   "outputs": [],
   "source": [
    "# Set the first row as the column names\n",
    "PriceIndex_transposed.columns = PriceIndex_transposed.iloc[0]\n",
    "PriceIndex_transposed = PriceIndex_transposed.drop(PriceIndex_transposed.index[0])\n",
    "\n",
    "# Set the first row as the column names\n",
    "SaleVolume_transposed.columns = SaleVolume_transposed.iloc[0]\n",
    "SaleVolume_transposed = SaleVolume_transposed.drop(SaleVolume_transposed.index[0])"
   ]
  },
  {
   "cell_type": "code",
   "execution_count": 5,
   "metadata": {},
   "outputs": [],
   "source": [
    "PriceIndexMean = PriceIndex_transposed.iloc[:, :1]\n",
    "SaleVolumeMean = SaleVolume_transposed.iloc[:, :1]\n",
    "test = PriceIndex_transposed.iloc[:, 1:13]"
   ]
  },
  {
   "cell_type": "code",
   "execution_count": 6,
   "metadata": {},
   "outputs": [],
   "source": [
    "%%capture --no-stdout\n",
    "for year in range(2011, 2024):\n",
    "    PriceIndexMean[str(year)] = pd.NA"
   ]
  },
  {
   "cell_type": "code",
   "execution_count": 7,
   "metadata": {},
   "outputs": [
    {
     "name": "stdout",
     "output_type": "stream",
     "text": [
      "<class 'pandas.core.frame.DataFrame'>\n",
      "Index: 34 entries, City of London to LONDON\n",
      "Data columns (total 14 columns):\n",
      " #   Column   Non-Null Count  Dtype \n",
      "---  ------   --------------  ----- \n",
      " 0   CSScode  34 non-null     object\n",
      " 1   2011     0 non-null      object\n",
      " 2   2012     0 non-null      object\n",
      " 3   2013     0 non-null      object\n",
      " 4   2014     0 non-null      object\n",
      " 5   2015     0 non-null      object\n",
      " 6   2016     0 non-null      object\n",
      " 7   2017     0 non-null      object\n",
      " 8   2018     0 non-null      object\n",
      " 9   2019     0 non-null      object\n",
      " 10  2020     0 non-null      object\n",
      " 11  2021     0 non-null      object\n",
      " 12  2022     0 non-null      object\n",
      " 13  2023     0 non-null      object\n",
      "dtypes: object(14)\n",
      "memory usage: 4.0+ KB\n"
     ]
    }
   ],
   "source": [
    "PriceIndexMean.info()"
   ]
  },
  {
   "cell_type": "code",
   "execution_count": 8,
   "metadata": {},
   "outputs": [],
   "source": [
    "PriceIndex_transposed.iloc[:, 1:] = PriceIndex_transposed.iloc[:, 1:].astype(float)"
   ]
  },
  {
   "cell_type": "code",
   "execution_count": 9,
   "metadata": {},
   "outputs": [],
   "source": [
    "%%capture --no-stdout\n",
    "for i in range(12):\n",
    "    temp_column_name = str(2011+i)\n",
    "    PriceIndexMean[temp_column_name] = PriceIndex_transposed.iloc[:, 1+12*i:13+12*i].mean(axis=1)"
   ]
  },
  {
   "cell_type": "code",
   "execution_count": 10,
   "metadata": {},
   "outputs": [],
   "source": [
    "%%capture --no-stdout\n",
    "PriceIndexMean['2023'] = PriceIndex_transposed.iloc[:, 145:155].mean(axis=1)"
   ]
  },
  {
   "cell_type": "code",
   "execution_count": 11,
   "metadata": {},
   "outputs": [
    {
     "name": "stderr",
     "output_type": "stream",
     "text": [
      "C:\\Users\\SBH\\AppData\\Local\\Temp\\ipykernel_44444\\4018831901.py:1: SettingWithCopyWarning: \n",
      "A value is trying to be set on a copy of a slice from a DataFrame.\n",
      "Try using .loc[row_indexer,col_indexer] = value instead\n",
      "\n",
      "See the caveats in the documentation: https://pandas.pydata.org/pandas-docs/stable/user_guide/indexing.html#returning-a-view-versus-a-copy\n",
      "  PriceIndexMean.loc[:,'2018_19'] = PriceIndexMean['2019'] - PriceIndexMean['2018']\n",
      "C:\\Users\\SBH\\AppData\\Local\\Temp\\ipykernel_44444\\4018831901.py:2: SettingWithCopyWarning: \n",
      "A value is trying to be set on a copy of a slice from a DataFrame.\n",
      "Try using .loc[row_indexer,col_indexer] = value instead\n",
      "\n",
      "See the caveats in the documentation: https://pandas.pydata.org/pandas-docs/stable/user_guide/indexing.html#returning-a-view-versus-a-copy\n",
      "  PriceIndexMean.loc[:,'2019_20'] = PriceIndexMean['2020'] - PriceIndexMean['2019']\n",
      "C:\\Users\\SBH\\AppData\\Local\\Temp\\ipykernel_44444\\4018831901.py:3: SettingWithCopyWarning: \n",
      "A value is trying to be set on a copy of a slice from a DataFrame.\n",
      "Try using .loc[row_indexer,col_indexer] = value instead\n",
      "\n",
      "See the caveats in the documentation: https://pandas.pydata.org/pandas-docs/stable/user_guide/indexing.html#returning-a-view-versus-a-copy\n",
      "  PriceIndexMean.loc[:,'2020_21'] = PriceIndexMean['2021'] - PriceIndexMean['2020']\n",
      "C:\\Users\\SBH\\AppData\\Local\\Temp\\ipykernel_44444\\4018831901.py:4: SettingWithCopyWarning: \n",
      "A value is trying to be set on a copy of a slice from a DataFrame.\n",
      "Try using .loc[row_indexer,col_indexer] = value instead\n",
      "\n",
      "See the caveats in the documentation: https://pandas.pydata.org/pandas-docs/stable/user_guide/indexing.html#returning-a-view-versus-a-copy\n",
      "  PriceIndexMean.loc[:,'2021_22'] = PriceIndexMean['2022'] - PriceIndexMean['2021']\n",
      "C:\\Users\\SBH\\AppData\\Local\\Temp\\ipykernel_44444\\4018831901.py:5: SettingWithCopyWarning: \n",
      "A value is trying to be set on a copy of a slice from a DataFrame.\n",
      "Try using .loc[row_indexer,col_indexer] = value instead\n",
      "\n",
      "See the caveats in the documentation: https://pandas.pydata.org/pandas-docs/stable/user_guide/indexing.html#returning-a-view-versus-a-copy\n",
      "  PriceIndexMean.loc[:,'2017_18'] = PriceIndexMean['2018'] - PriceIndexMean['2017']\n"
     ]
    }
   ],
   "source": [
    "PriceIndexMean.loc[:,'2018_19'] = PriceIndexMean['2019'] - PriceIndexMean['2018']\n",
    "PriceIndexMean.loc[:,'2019_20'] = PriceIndexMean['2020'] - PriceIndexMean['2019']\n",
    "PriceIndexMean.loc[:,'2020_21'] = PriceIndexMean['2021'] - PriceIndexMean['2020']\n",
    "PriceIndexMean.loc[:,'2021_22'] = PriceIndexMean['2022'] - PriceIndexMean['2021']\n",
    "PriceIndexMean.loc[:,'2017_18'] = PriceIndexMean['2018'] - PriceIndexMean['2017']"
   ]
  },
  {
   "cell_type": "code",
   "execution_count": 12,
   "metadata": {},
   "outputs": [],
   "source": [
    "PriceIndexFinal = pd.DataFrame()"
   ]
  },
  {
   "cell_type": "code",
   "execution_count": 13,
   "metadata": {},
   "outputs": [],
   "source": [
    "PriceIndexFinal['PriceDiff_2018'] = PriceIndexMean['2017_18']\n",
    "PriceIndexFinal['PriceDiff_2019'] = PriceIndexMean['2018_19']\n",
    "PriceIndexFinal['PriceDiff_2020'] = PriceIndexMean['2019_20']\n",
    "PriceIndexFinal['PriceDiff_2021'] = PriceIndexMean['2020_21']\n",
    "PriceIndexFinal['PriceDiff_2022'] = PriceIndexMean['2021_22']\n",
    "PriceIndexFinal['CSScode'] = PriceIndexMean['CSScode']"
   ]
  },
  {
   "cell_type": "code",
   "execution_count": 12,
   "metadata": {},
   "outputs": [],
   "source": [
    "PriceIndexMean.to_csv(os.path.join(\"..\",\"data\",\"CleanedPriceIndex.csv\"), index=False)"
   ]
  },
  {
   "cell_type": "code",
   "execution_count": 14,
   "metadata": {},
   "outputs": [],
   "source": [
    "PriceIndexFinal.to_csv(os.path.join(\"..\",\"data\",\"CleanedDiffPriceIndex.csv\"))"
   ]
  }
 ],
 "metadata": {
  "kernelspec": {
   "display_name": "base",
   "language": "python",
   "name": "python3"
  },
  "language_info": {
   "codemirror_mode": {
    "name": "ipython",
    "version": 3
   },
   "file_extension": ".py",
   "mimetype": "text/x-python",
   "name": "python",
   "nbconvert_exporter": "python",
   "pygments_lexer": "ipython3",
   "version": "3.11.5"
  }
 },
 "nbformat": 4,
 "nbformat_minor": 2
}
