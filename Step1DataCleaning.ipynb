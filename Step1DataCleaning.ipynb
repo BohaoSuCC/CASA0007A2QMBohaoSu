{
 "cells": [
  {
   "cell_type": "code",
   "execution_count": 1,
   "metadata": {},
   "outputs": [],
   "source": [
    "# import libraries\n",
    "import os\n",
    "import pandas as pd\n",
    "import re\n",
    "import numpy as np\n",
    "import matplotlib.pyplot as plt\n",
    "import seaborn as sns\n",
    "from sklearn.preprocessing import MinMaxScaler, StandardScaler\n",
    "import scipy.stats as stats\n",
    "import statsmodels.api as sm\n",
    "from statsmodels.tools.tools import add_constant\n",
    "\n",
    "from src import drop_column_using_vif_, show_vif_values\n",
    "\n",
    "import imageio\n",
    "from statsmodels.stats.outliers_influence import variance_inflation_factor\n"
   ]
  },
  {
   "cell_type": "code",
   "execution_count": 2,
   "metadata": {},
   "outputs": [],
   "source": [
    "#Read the data\n",
    "Dataframeraw = pd.read_csv(os.path.join(\"data\",\"Cleaned_data.csv\"))"
   ]
  },
  {
   "cell_type": "code",
   "execution_count": 3,
   "metadata": {},
   "outputs": [],
   "source": [
    "# Create a yeas' list\n",
    "years = ['2018', '2019', '2020', '2021', '2022']\n",
    "\n",
    "# store many DataFrames by dict\n",
    "dataframes = {}\n",
    "\n",
    "for year in years:\n",
    "    # select all the columns including relating year，and also with the CSScode\n",
    "    columns_for_year = [col for col in Dataframeraw.columns if year in col] + ['CSScode']\n",
    "    # delect possible repeating columns by list-set-list\n",
    "    columns_for_year = list(set(columns_for_year))\n",
    "    \"\"\"\n",
    "    # set the CSScode as the index of dataframe\n",
    "    dataframe_year = Dataframe[columns_for_year]\n",
    "    dataframe_year.set_index('CSScode', inplace=True)\n",
    "    \"\"\"\n",
    "    # create and save the DataFrame back to dicts\n",
    "    dataframes[f'Dataframe_{year}'] = Dataframeraw[columns_for_year]"
   ]
  },
  {
   "cell_type": "code",
   "execution_count": 4,
   "metadata": {},
   "outputs": [],
   "source": [
    "Dataframe_2018 = dataframes['Dataframe_2018']\n",
    "Dataframe_2019 = dataframes['Dataframe_2019']\n",
    "Dataframe_2020 = dataframes['Dataframe_2020']\n",
    "Dataframe_2021 = dataframes['Dataframe_2021']\n",
    "Dataframe_2022 = dataframes['Dataframe_2022']"
   ]
  },
  {
   "cell_type": "code",
   "execution_count": 5,
   "metadata": {},
   "outputs": [],
   "source": [
    "# drop na \n",
    "# na row represents the total value of London\n",
    "Dataframe_2018 = Dataframe_2018[Dataframe_2018['CSScode'] != 'E12000007']\n",
    "Dataframe_2019 = Dataframe_2019[Dataframe_2019['CSScode'] != 'E12000007']\n",
    "Dataframe_2020 = Dataframe_2020[Dataframe_2020['CSScode'] != 'E12000007']\n",
    "Dataframe_2021 = Dataframe_2021[Dataframe_2021['CSScode'] != 'E12000007']\n",
    "Dataframe_2022 = Dataframe_2022[Dataframe_2022['CSScode'] != 'E12000007']"
   ]
  },
  {
   "cell_type": "markdown",
   "metadata": {},
   "source": [
    "**Standarlization**"
   ]
  },
  {
   "cell_type": "code",
   "execution_count": 6,
   "metadata": {},
   "outputs": [],
   "source": [
    "# Define the scalar normalization function\n",
    "\n",
    "scaler = StandardScaler()\n",
    "\n",
    "# store many DataFrames_normed by dict\n",
    "dataframes_normed = {}\n",
    "\n",
    "for year in years:\n",
    "    dataframes_normed[f'Dataframe_{year}_normed'] = dataframes[f'Dataframe_{year}']\n",
    "\n",
    "    columns_to_normalize = [f'Finance_Secure_{year}', f'Environment_{year}', f'Employment_{year}', \n",
    "                            f'Healthy_{year}', f'Safety_{year}', f'Decent_Home_{year}', f'Connections_{year}',f'PriceDiff_{year}']\n",
    "\n",
    "    # create and save the DataFrame back to dicts\n",
    "    dataframes_normed[f'Dataframe_{year}_normed'].loc[:,columns_to_normalize] = scaler.fit_transform(dataframes[f'Dataframe_{year}'][columns_to_normalize])\n",
    "    "
   ]
  },
  {
   "cell_type": "markdown",
   "metadata": {},
   "source": [
    "Drop the *City of London*"
   ]
  },
  {
   "cell_type": "code",
   "execution_count": 7,
   "metadata": {},
   "outputs": [
    {
     "name": "stderr",
     "output_type": "stream",
     "text": [
      "C:\\Users\\SBH\\AppData\\Local\\Temp\\ipykernel_32600\\3447670644.py:1: SettingWithCopyWarning: \n",
      "A value is trying to be set on a copy of a slice from a DataFrame\n",
      "\n",
      "See the caveats in the documentation: https://pandas.pydata.org/pandas-docs/stable/user_guide/indexing.html#returning-a-view-versus-a-copy\n",
      "  dataframes_normed['Dataframe_2018_normed'].drop(32, axis=0, inplace=True)\n",
      "C:\\Users\\SBH\\AppData\\Local\\Temp\\ipykernel_32600\\3447670644.py:2: SettingWithCopyWarning: \n",
      "A value is trying to be set on a copy of a slice from a DataFrame\n",
      "\n",
      "See the caveats in the documentation: https://pandas.pydata.org/pandas-docs/stable/user_guide/indexing.html#returning-a-view-versus-a-copy\n",
      "  dataframes_normed['Dataframe_2019_normed'].drop(32, axis=0, inplace=True)\n",
      "C:\\Users\\SBH\\AppData\\Local\\Temp\\ipykernel_32600\\3447670644.py:3: SettingWithCopyWarning: \n",
      "A value is trying to be set on a copy of a slice from a DataFrame\n",
      "\n",
      "See the caveats in the documentation: https://pandas.pydata.org/pandas-docs/stable/user_guide/indexing.html#returning-a-view-versus-a-copy\n",
      "  dataframes_normed['Dataframe_2020_normed'].drop(32, axis=0, inplace=True)\n",
      "C:\\Users\\SBH\\AppData\\Local\\Temp\\ipykernel_32600\\3447670644.py:4: SettingWithCopyWarning: \n",
      "A value is trying to be set on a copy of a slice from a DataFrame\n",
      "\n",
      "See the caveats in the documentation: https://pandas.pydata.org/pandas-docs/stable/user_guide/indexing.html#returning-a-view-versus-a-copy\n",
      "  dataframes_normed['Dataframe_2021_normed'].drop(32, axis=0, inplace=True)\n",
      "C:\\Users\\SBH\\AppData\\Local\\Temp\\ipykernel_32600\\3447670644.py:5: SettingWithCopyWarning: \n",
      "A value is trying to be set on a copy of a slice from a DataFrame\n",
      "\n",
      "See the caveats in the documentation: https://pandas.pydata.org/pandas-docs/stable/user_guide/indexing.html#returning-a-view-versus-a-copy\n",
      "  dataframes_normed['Dataframe_2022_normed'].drop(32, axis=0, inplace=True)\n"
     ]
    }
   ],
   "source": [
    "dataframes_normed['Dataframe_2018_normed'].drop(32, axis=0, inplace=True)\n",
    "dataframes_normed['Dataframe_2019_normed'].drop(32, axis=0, inplace=True)\n",
    "dataframes_normed['Dataframe_2020_normed'].drop(32, axis=0, inplace=True)\n",
    "dataframes_normed['Dataframe_2021_normed'].drop(32, axis=0, inplace=True)\n",
    "dataframes_normed['Dataframe_2022_normed'].drop(32, axis=0, inplace=True)"
   ]
  },
  {
   "cell_type": "code",
   "execution_count": 8,
   "metadata": {},
   "outputs": [],
   "source": [
    "Dataframe_2018_normed = dataframes_normed['Dataframe_2018_normed']\n",
    "Dataframe_2019_normed = dataframes_normed['Dataframe_2019_normed']\n",
    "Dataframe_2020_normed = dataframes_normed['Dataframe_2020_normed']\n",
    "Dataframe_2021_normed = dataframes_normed['Dataframe_2021_normed']\n",
    "Dataframe_2022_normed = dataframes_normed['Dataframe_2022_normed']"
   ]
  },
  {
   "cell_type": "code",
   "execution_count": 9,
   "metadata": {},
   "outputs": [],
   "source": [
    "Dataframe_2018_normed.to_csv(os.path.join(\"data\",\"OperatingData\",\"Df_2018_normed.csv\"))\n",
    "Dataframe_2019_normed.to_csv(os.path.join(\"data\",\"OperatingData\",\"Df_2019_normed.csv\"))\n",
    "Dataframe_2020_normed.to_csv(os.path.join(\"data\",\"OperatingData\",\"Df_2020_normed.csv\"))\n",
    "Dataframe_2021_normed.to_csv(os.path.join(\"data\",\"OperatingData\",\"Df_2021_normed.csv\"))\n",
    "Dataframe_2022_normed.to_csv(os.path.join(\"data\",\"OperatingData\",\"Df_2022_normed.csv\"))"
   ]
  },
  {
   "cell_type": "markdown",
   "metadata": {},
   "source": [
    "**Merge the years' datasets between 2018-2022**"
   ]
  },
  {
   "cell_type": "code",
   "execution_count": 16,
   "metadata": {},
   "outputs": [],
   "source": [
    "#sort the columns index for the raw data \n",
    "\n",
    "Sorted_Dataframe_2018_normed = Dataframe_2018_normed.sort_index(axis=1)\n",
    "Sorted_Dataframe_2019_normed = Dataframe_2019_normed.sort_index(axis=1)\n",
    "Sorted_Dataframe_2020_normed = Dataframe_2020_normed.sort_index(axis=1)\n",
    "Sorted_Dataframe_2021_normed = Dataframe_2021_normed.sort_index(axis=1)\n",
    "Sorted_Dataframe_2022_normed = Dataframe_2022_normed.sort_index(axis=1)\n",
    "Sorted_Dataframe_2018_normed.to_csv(os.path.join(\"data\",\"Regression2018_2022\",\"2018.csv\"))\n",
    "Sorted_Dataframe_2019_normed.to_csv(os.path.join(\"data\",\"Regression2018_2022\",\"2019.csv\"))\n",
    "Sorted_Dataframe_2020_normed.to_csv(os.path.join(\"data\",\"Regression2018_2022\",\"2020.csv\"))\n",
    "Sorted_Dataframe_2021_normed.to_csv(os.path.join(\"data\",\"Regression2018_2022\",\"2021.csv\"))\n",
    "Sorted_Dataframe_2022_normed.to_csv(os.path.join(\"data\",\"Regression2018_2022\",\"2022.csv\"))"
   ]
  }
 ],
 "metadata": {
  "kernelspec": {
   "display_name": "base",
   "language": "python",
   "name": "python3"
  },
  "language_info": {
   "codemirror_mode": {
    "name": "ipython",
    "version": 3
   },
   "file_extension": ".py",
   "mimetype": "text/x-python",
   "name": "python",
   "nbconvert_exporter": "python",
   "pygments_lexer": "ipython3",
   "version": "3.11.5"
  }
 },
 "nbformat": 4,
 "nbformat_minor": 2
}
