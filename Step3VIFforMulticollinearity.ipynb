{
 "cells": [
  {
   "cell_type": "code",
   "execution_count": 1,
   "metadata": {},
   "outputs": [],
   "source": [
    "# import libraries\n",
    "import os\n",
    "import pandas as pd\n",
    "import re\n",
    "import numpy as np\n",
    "import matplotlib.pyplot as plt\n",
    "import seaborn as sns\n",
    "from sklearn.preprocessing import MinMaxScaler, StandardScaler\n",
    "import scipy.stats as stats\n",
    "import statsmodels.api as sm\n",
    "from statsmodels.tools.tools import add_constant\n",
    "\n",
    "from src import drop_column_using_vif_, show_vif_values\n",
    "\n",
    "import imageio\n",
    "from statsmodels.stats.outliers_influence import variance_inflation_factor\n"
   ]
  },
  {
   "cell_type": "markdown",
   "metadata": {},
   "source": [
    "**VIF and Multi-linearity**"
   ]
  },
  {
   "cell_type": "code",
   "execution_count": 4,
   "metadata": {},
   "outputs": [],
   "source": [
    "# loading the data\n",
    "Dataframe_2018_normed = pd.read_csv(os.path.join(\"data\",\"OperatingData\",\"Df_2018_normed.csv\"))\n",
    "Dataframe_2019_normed = pd.read_csv(os.path.join(\"data\",\"OperatingData\",\"Df_2019_normed.csv\"))\n",
    "Dataframe_2020_normed = pd.read_csv(os.path.join(\"data\",\"OperatingData\",\"Df_2020_normed.csv\"))\n",
    "Dataframe_2021_normed = pd.read_csv(os.path.join(\"data\",\"OperatingData\",\"Df_2021_normed.csv\"))\n",
    "Dataframe_2022_normed = pd.read_csv(os.path.join(\"data\",\"OperatingData\",\"Df_2022_normed.csv\"))"
   ]
  },
  {
   "cell_type": "code",
   "execution_count": null,
   "metadata": {},
   "outputs": [],
   "source": [
    "Merged_dataframe_2018_2022 = pd.read_csv(os.path.join(\"data\",\"Regression2018_2022\",\"Merged2018_2022.csv\"))"
   ]
  },
  {
   "cell_type": "code",
   "execution_count": 5,
   "metadata": {},
   "outputs": [],
   "source": [
    "# define the dict\n",
    "dataframes_normed = {'Dataframe_2018_normed': Dataframe_2018_normed,\n",
    "                     'Dataframe_2019_normed': Dataframe_2019_normed,\n",
    "                     'Dataframe_2020_normed': Dataframe_2020_normed,\n",
    "                     'Dataframe_2021_normed': Dataframe_2021_normed,\n",
    "                     'Dataframe_2022_normed': Dataframe_2022_normed  \n",
    "}"
   ]
  },
  {
   "cell_type": "markdown",
   "metadata": {},
   "source": [
    "*define the dependant variables, independant variables and constant*"
   ]
  },
  {
   "cell_type": "markdown",
   "metadata": {},
   "source": [
    "*calculate the VIFs*"
   ]
  },
  {
   "cell_type": "code",
   "execution_count": 8,
   "metadata": {},
   "outputs": [],
   "source": [
    "# Create a yeas' list\n",
    "years = ['2018', '2019', '2020', '2021', '2022']"
   ]
  },
  {
   "cell_type": "code",
   "execution_count": 9,
   "metadata": {},
   "outputs": [
    {
     "name": "stdout",
     "output_type": "stream",
     "text": [
      "          feature_2018  VIF_2018         feature_2019  VIF_2019  \\\n",
      "0                const  1.000000                const  1.000000   \n",
      "1  Finance_Secure_2018  1.628835  Finance_Secure_2019  1.410548   \n",
      "2     Environment_2018  2.496728     Environment_2019  2.668788   \n",
      "3      Employment_2018  2.059287      Employment_2019  2.289789   \n",
      "4         Healthy_2018  1.735321         Healthy_2019  1.762400   \n",
      "5          Safety_2018  2.152249          Safety_2019  1.501046   \n",
      "6     Decent_Home_2018  1.277498     Decent_Home_2019  2.306162   \n",
      "7     Connections_2018  2.828593     Connections_2019  2.568227   \n",
      "\n",
      "          feature_2020  VIF_2020         feature_2021  VIF_2021  \\\n",
      "0                const  1.000000                const  1.000000   \n",
      "1  Finance_Secure_2020  1.910051  Finance_Secure_2021  1.527413   \n",
      "2     Environment_2020  1.647512     Environment_2021  1.508008   \n",
      "3      Employment_2020  3.047508      Employment_2021  1.648603   \n",
      "4         Healthy_2020  1.633568         Healthy_2021  1.275865   \n",
      "5          Safety_2020  1.662231          Safety_2021  1.640707   \n",
      "6     Decent_Home_2020  1.261027     Decent_Home_2021  1.213356   \n",
      "7     Connections_2020  1.481751     Connections_2021  1.409773   \n",
      "\n",
      "          feature_2022  VIF_2022  \n",
      "0                const  1.000000  \n",
      "1  Finance_Secure_2022  1.336619  \n",
      "2     Environment_2022  1.526039  \n",
      "3      Employment_2022  1.335429  \n",
      "4         Healthy_2022  1.102637  \n",
      "5          Safety_2022  1.576754  \n",
      "6     Decent_Home_2022  1.132857  \n",
      "7     Connections_2022  1.086470  \n"
     ]
    }
   ],
   "source": [
    "\n",
    "vif_data = pd.DataFrame()\n",
    "for year in years:\n",
    "    # set the columns for calculating VIFs\n",
    "    X_vars = [f'Finance_Secure_{year}', f'Environment_{year}', f'Employment_{year}', \n",
    "            f'Healthy_{year}', f'Safety_{year}', f'Decent_Home_{year}', f'Connections_{year}']\n",
    "    \n",
    "    # add the constatnt for calculating VIF\n",
    "    X = sm.add_constant(dataframes_normed[f'Dataframe_{year}_normed'][X_vars])\n",
    "\n",
    " \n",
    "    vif_data[f'feature_{year}'] = X.columns\n",
    "    vif_data[f'VIF_{year}'] = [variance_inflation_factor(X.values, i) for i in range(len(X.columns))]\n",
    "\n",
    "print(vif_data)\n",
    "vif_data.to_csv(os.path.join(\"AnalysisResult\",\"VIF_results_18_22.csv\"))\n"
   ]
  },
  {
   "cell_type": "code",
   "execution_count": 11,
   "metadata": {},
   "outputs": [
    {
     "name": "stdout",
     "output_type": "stream",
     "text": [
      "    feature_18_22  VIF_18_22\n",
      "0           const   1.000000\n",
      "1  Finance_Secure   1.336619\n",
      "2     Environment   1.526039\n",
      "3      Employment   1.335429\n",
      "4         Healthy   1.102637\n",
      "5          Safety   1.576754\n",
      "6     Decent_Home   1.132857\n",
      "7     Connections   1.086470\n"
     ]
    }
   ],
   "source": [
    "\n",
    "merged_vif_data = pd.DataFrame()\n",
    "\n",
    "# set the columns for calculating VIFs\n",
    "X_vars = ['Finance_Secure', 'Environment', 'Employment', \n",
    "            'Healthy', 'Safety', 'Decent_Home', 'Connections']\n",
    "    \n",
    "# add the constatnt for calculating VIF\n",
    "X_merge = sm.add_constant(Merged_dataframe_2018_2022[X_vars])\n",
    "\n",
    " \n",
    "merged_vif_data[f'feature_18_22'] = X_merge.columns\n",
    "merged_vif_data[f'VIF_18_22'] = [variance_inflation_factor(X.values, i) for i in range(len(X.columns))]\n",
    "\n",
    "print(merged_vif_data)\n",
    "merged_vif_data.to_csv(os.path.join(\"AnalysisResult\",\"Merged_VIF_results_18_22.csv\"))\n"
   ]
  }
 ],
 "metadata": {
  "kernelspec": {
   "display_name": "base",
   "language": "python",
   "name": "python3"
  },
  "language_info": {
   "codemirror_mode": {
    "name": "ipython",
    "version": 3
   },
   "file_extension": ".py",
   "mimetype": "text/x-python",
   "name": "python",
   "nbconvert_exporter": "python",
   "pygments_lexer": "ipython3",
   "version": "3.11.5"
  }
 },
 "nbformat": 4,
 "nbformat_minor": 2
}
